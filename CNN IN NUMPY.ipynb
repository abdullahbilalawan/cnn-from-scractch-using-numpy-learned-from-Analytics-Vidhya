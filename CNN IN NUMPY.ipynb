{
 "cells": [
  {
   "cell_type": "markdown",
   "metadata": {},
   "source": [
    "#  CNN NUMPY IMPLEMENTATION WITH MNIST dataset  "
   ]
  },
  {
   "cell_type": "code",
   "execution_count": 66,
   "metadata": {},
   "outputs": [],
   "source": [
    "#importing required libraries\n",
    "import numpy as np\n",
    "import pandas as pd\n",
    "from tqdm import tqdm\n",
    "from keras.datasets import mnist"
   ]
  },
  {
   "cell_type": "code",
   "execution_count": 67,
   "metadata": {},
   "outputs": [],
   "source": [
    "# loading dataset using 200 images"
   ]
  },
  {
   "cell_type": "code",
   "execution_count": 68,
   "metadata": {},
   "outputs": [],
   "source": [
    "(x_train, y_train), (x_test, y_test) = mnist.load_data()\n",
    "\n",
    "# selecting a subset of data (200 images)\n",
    "x_train = x_train[:200]\n",
    "y = y_train[:200]\n",
    "\n",
    "X = x_train.T\n",
    "X = X/255\n",
    "\n",
    "y.resize((200,1))\n",
    "y = y.T\n"
   ]
  },
  {
   "cell_type": "code",
   "execution_count": 69,
   "metadata": {},
   "outputs": [
    {
     "data": {
      "text/plain": [
       "1    26\n",
       "9    23\n",
       "7    21\n",
       "4    21\n",
       "3    21\n",
       "0    21\n",
       "2    20\n",
       "6    19\n",
       "8    15\n",
       "5    13\n",
       "dtype: int64"
      ]
     },
     "execution_count": 69,
     "metadata": {},
     "output_type": "execute_result"
    }
   ],
   "source": [
    "pd.Series(y[0]).value_counts()\n"
   ]
  },
  {
   "cell_type": "code",
   "execution_count": 70,
   "metadata": {},
   "outputs": [],
   "source": [
    "# we can see we have 9 classes here we can map into binary problem"
   ]
  },
  {
   "cell_type": "code",
   "execution_count": 71,
   "metadata": {},
   "outputs": [
    {
     "data": {
      "text/plain": [
       "0    109\n",
       "1     91\n",
       "dtype: int64"
      ]
     },
     "execution_count": 71,
     "metadata": {},
     "output_type": "execute_result"
    }
   ],
   "source": [
    "\n",
    "# converting into binary classification\n",
    "for i in range(y.shape[1]):\n",
    "    if y[0][i] >4:\n",
    "        y[0][i] = 1\n",
    "    else:\n",
    "        y[0][i] = 0\n",
    "\n",
    "#checking value counts\n",
    "pd.Series(y[0]).value_counts()"
   ]
  },
  {
   "cell_type": "markdown",
   "metadata": {},
   "source": [
    "# INITIALIZE FILTER FOR CONVOLUTION LAYER"
   ]
  },
  {
   "cell_type": "code",
   "execution_count": 72,
   "metadata": {},
   "outputs": [
    {
     "name": "stdout",
     "output_type": "stream",
     "text": [
      "[[0.53455571 0.81708157 0.48465186 0.73870263 0.09815457]\n",
      " [0.600516   0.24551023 0.93558045 0.79008633 0.84308291]\n",
      " [0.16332105 0.56124954 0.28574953 0.59253139 0.02091304]\n",
      " [0.58499779 0.92110917 0.13519893 0.26000293 0.68798198]\n",
      " [0.2898579  0.06261737 0.19804038 0.60439871 0.10568753]]\n"
     ]
    }
   ],
   "source": [
    "# initialize a random convolution filter\n",
    "f=np.random.uniform(size=(3,5,5)) #of 3 5x5 filers\n",
    "\n",
    "# print first filter\n",
    "f=f.T\n",
    "\n",
    "print(f[:,:,0])\n"
   ]
  },
  {
   "cell_type": "code",
   "execution_count": 73,
   "metadata": {},
   "outputs": [
    {
     "data": {
      "text/plain": [
       "((28, 28, 200), (1, 200), (5, 5, 3))"
      ]
     },
     "execution_count": 73,
     "metadata": {},
     "output_type": "execute_result"
    }
   ],
   "source": [
    "X.shape,y.shape,f.shape"
   ]
  },
  {
   "cell_type": "code",
   "execution_count": 74,
   "metadata": {},
   "outputs": [],
   "source": [
    "# now for each image create 5x5 "
   ]
  },
  {
   "cell_type": "markdown",
   "metadata": {},
   "source": [
    "# Smaller Patches of Images"
   ]
  },
  {
   "cell_type": "code",
   "execution_count": 75,
   "metadata": {},
   "outputs": [],
   "source": [
    "# new images list\n",
    "new_images=[]\n",
    "\n",
    "\n",
    "for x in range(X.shape[2]):#through each image slide\n",
    "    #slide in horizontal direction\n",
    "    for i in range(X.shape[0]-f.shape[0]+1):\n",
    "        # in vertical direction\n",
    "        for j in range(X.shape[1]-f.shape[1]+1):\n",
    "            new_images.append(X[:,:,x][i:i+f.shape[0],j:j+f.shape[1]])\n"
   ]
  },
  {
   "cell_type": "code",
   "execution_count": 76,
   "metadata": {},
   "outputs": [],
   "source": [
    "new_images = np.array(new_images)"
   ]
  },
  {
   "cell_type": "code",
   "execution_count": null,
   "metadata": {},
   "outputs": [],
   "source": [
    "\n"
   ]
  },
  {
   "cell_type": "code",
   "execution_count": 77,
   "metadata": {},
   "outputs": [
    {
     "data": {
      "text/plain": [
       "(115200, 5, 5)"
      ]
     },
     "execution_count": 77,
     "metadata": {},
     "output_type": "execute_result"
    }
   ],
   "source": [
    "new_images.shape"
   ]
  },
  {
   "cell_type": "code",
   "execution_count": 78,
   "metadata": {},
   "outputs": [],
   "source": [
    "new_images.resize((X.shape[2],int(new_images.shape[0]/X.shape[2]),new_images.shape[1],new_images.shape[2]))"
   ]
  },
  {
   "cell_type": "code",
   "execution_count": 79,
   "metadata": {},
   "outputs": [
    {
     "name": "stdout",
     "output_type": "stream",
     "text": [
      "200\n"
     ]
    }
   ],
   "source": [
    "print(len(new_images))"
   ]
  },
  {
   "cell_type": "markdown",
   "metadata": {},
   "source": [
    "# INITIALIZE WEIGHTS  MATRIX"
   ]
  },
  {
   "cell_type": "code",
   "execution_count": 80,
   "metadata": {},
   "outputs": [],
   "source": [
    "# number of features in data set\n",
    "s_row = X.shape[0] - f.shape[0] + 1\n",
    "s_col = X.shape[1] - f.shape[1] + 1\n",
    "num_filter = f.shape[2]\n",
    "\n",
    "inputlayer_neurons = (s_row)*(s_col)*(num_filter)\n",
    "output_neurons = 1 \n",
    "\n",
    "# initializing weight\n",
    "wo=np.random.uniform(size=(inputlayer_neurons,output_neurons))"
   ]
  },
  {
   "cell_type": "code",
   "execution_count": 81,
   "metadata": {},
   "outputs": [
    {
     "data": {
      "text/plain": [
       "array([[0.70424076],\n",
       "       [0.64199035],\n",
       "       [0.20739187],\n",
       "       ...,\n",
       "       [0.13380426],\n",
       "       [0.4946628 ],\n",
       "       [0.57036174]])"
      ]
     },
     "execution_count": 81,
     "metadata": {},
     "output_type": "execute_result"
    }
   ],
   "source": [
    "wo"
   ]
  },
  {
   "cell_type": "markdown",
   "metadata": {},
   "source": [
    "# DEFINING ACTIVATION FUNCTION"
   ]
  },
  {
   "cell_type": "code",
   "execution_count": 82,
   "metadata": {},
   "outputs": [],
   "source": [
    "def sigmoid(x):\n",
    "    return 1 /( 1+np.exp(-x))"
   ]
  },
  {
   "cell_type": "code",
   "execution_count": 83,
   "metadata": {},
   "outputs": [],
   "source": [
    "# derivative of Sigmoid Function\n",
    "def derivatives_sigmoid(x):\n",
    "    return x * (1 - x)"
   ]
  },
  {
   "cell_type": "markdown",
   "metadata": {},
   "source": [
    "# DEFINING COnVOLUTION LAYER"
   ]
  },
  {
   "cell_type": "code",
   "execution_count": 84,
   "metadata": {},
   "outputs": [],
   "source": [
    "filter_output=[]\n",
    "\n",
    "\n",
    "for i in range(len(new_images)):\n",
    "    #applying filter\n",
    "    \n",
    "    for k in range(f.shape[2]):\n",
    "        \n",
    "        #element wise multiplication\n",
    "        \n",
    "        for j in range(new_images.shape[1]):\n",
    "            filter_output.append((new_images[i][j]*f[:,:,k]).sum())\n",
    "            \n",
    "            \n",
    "\n"
   ]
  },
  {
   "cell_type": "code",
   "execution_count": 85,
   "metadata": {},
   "outputs": [],
   "source": [
    "filter_output = np.resize(np.array(filter_output), (len(new_images),f.shape[2],new_images.shape[1]))"
   ]
  },
  {
   "cell_type": "code",
   "execution_count": 86,
   "metadata": {},
   "outputs": [
    {
     "data": {
      "text/plain": [
       "(200, 3, 576)"
      ]
     },
     "execution_count": 86,
     "metadata": {},
     "output_type": "execute_result"
    }
   ],
   "source": [
    "filter_output.shape"
   ]
  },
  {
   "cell_type": "markdown",
   "metadata": {},
   "source": [
    "# Apply activation fn"
   ]
  },
  {
   "cell_type": "code",
   "execution_count": 87,
   "metadata": {},
   "outputs": [],
   "source": [
    "sigmoid_output =  sigmoid((filter_output))"
   ]
  },
  {
   "cell_type": "code",
   "execution_count": 88,
   "metadata": {},
   "outputs": [
    {
     "data": {
      "text/plain": [
       "(200, 3, 576)"
      ]
     },
     "execution_count": 88,
     "metadata": {},
     "output_type": "execute_result"
    }
   ],
   "source": [
    "sigmoid_output.shape"
   ]
  },
  {
   "cell_type": "markdown",
   "metadata": {},
   "source": [
    "# Making a fully connected Layer"
   ]
  },
  {
   "cell_type": "code",
   "execution_count": 89,
   "metadata": {},
   "outputs": [
    {
     "data": {
      "text/plain": [
       "(1728, 200)"
      ]
     },
     "execution_count": 89,
     "metadata": {},
     "output_type": "execute_result"
    }
   ],
   "source": [
    "# Linear transformation part\n",
    "\n",
    "\n",
    "\n",
    "#resizing the feature array\n",
    "\n",
    "sigmoid_output = sigmoid_output.reshape(sigmoid_output.shape[0],sigmoid_output.shape[1]*sigmoid_output.shape[2])\n",
    "sigmoid_output = sigmoid_output.T\n",
    "sigmoid_output.shape"
   ]
  },
  {
   "cell_type": "code",
   "execution_count": 90,
   "metadata": {},
   "outputs": [],
   "source": [
    "# Applying linear transformatiom\n",
    "\n",
    "output_layer_input=np.dot(wo.T,sigmoid_output)\n",
    "\n",
    "\n"
   ]
  },
  {
   "cell_type": "code",
   "execution_count": 92,
   "metadata": {},
   "outputs": [
    {
     "data": {
      "text/plain": [
       "(1, 200)"
      ]
     },
     "execution_count": 92,
     "metadata": {},
     "output_type": "execute_result"
    }
   ],
   "source": []
  },
  {
   "cell_type": "code",
   "execution_count": null,
   "metadata": {},
   "outputs": [],
   "source": []
  }
 ],
 "metadata": {
  "kernelspec": {
   "display_name": "Python 3",
   "language": "python",
   "name": "python3"
  },
  "language_info": {
   "codemirror_mode": {
    "name": "ipython",
    "version": 3
   },
   "file_extension": ".py",
   "mimetype": "text/x-python",
   "name": "python",
   "nbconvert_exporter": "python",
   "pygments_lexer": "ipython3",
   "version": "3.7.4"
  }
 },
 "nbformat": 4,
 "nbformat_minor": 2
}
